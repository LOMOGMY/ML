{
 "cells": [
  {
   "cell_type": "code",
   "execution_count": 1,
   "metadata": {},
   "outputs": [
    {
     "name": "stdout",
     "output_type": "stream",
     "text": [
      "98.95\n"
     ]
    }
   ],
   "source": [
    "#指数平滑算法\n",
    "\n",
    "def exponential_smoothing(alpha, s):\n",
    "    '''\n",
    "    一次指数平滑\n",
    "    :param alpha:  平滑系数\n",
    "    :param s:      数据序列， list\n",
    "    :return:       返回一次指数平滑模型参数， list\n",
    "    '''\n",
    "    s_temp = [0 for i in range(len(s))]\n",
    "    s_temp[0] = ( s[0] + s[1] + s[2] ) / 3\n",
    "    for i in range(1, len(s)):\n",
    "        s_temp[i] = alpha * s[i] + (1 - alpha) * s_temp[i-1]\n",
    "    return s_temp\n",
    "\n",
    "def compute_single(alpha, s):\n",
    "    '''\n",
    "    一次指数平滑\n",
    "    :param alpha:  平滑系数\n",
    "    :param s:      数据序列， list\n",
    "    :return:       返回一次指数平滑模型参数， list\n",
    "    '''\n",
    "    return exponential_smoothing(alpha, s)\n",
    "\n",
    "def compute_double(alpha, s):\n",
    "    '''\n",
    "    二次指数平滑\n",
    "    :param alpha:  平滑系数\n",
    "    :param s:      数据序列， list\n",
    "    :return:       返回二次指数平滑模型参数a, b， list\n",
    "    '''\n",
    "    s_single = compute_single(alpha, s)\n",
    "    s_double = compute_single(alpha, s_single)\n",
    "\n",
    "    a_double = [0 for i in range(len(s))]\n",
    "    b_double = [0 for i in range(len(s))]\n",
    "\n",
    "    for i in range(len(s)):\n",
    "        a_double[i] = 2 * s_single[i] - s_double[i]                    #计算二次指数平滑的a\n",
    "        b_double[i] = (alpha / (1 - alpha)) * (s_single[i] - s_double[i])  #计算二次指数平滑的b\n",
    "\n",
    "    return a_double, b_double\n",
    "\n",
    "def compute_triple(alpha, s):\n",
    "    '''\n",
    "    三次指数平滑\n",
    "    :param alpha:  平滑系数\n",
    "    :param s:      数据序列， list\n",
    "    :return:       返回三次指数平滑模型参数a, b, c， list\n",
    "    '''\n",
    "    s_single = compute_single(alpha, s)\n",
    "    s_double = compute_single(alpha, s_single)\n",
    "    s_triple = exponential_smoothing(alpha, s_double)\n",
    "\n",
    "    a_triple = [0 for i in range(len(s))]\n",
    "    b_triple = [0 for i in range(len(s))]\n",
    "    c_triple = [0 for i in range(len(s))]\n",
    "\n",
    "    for i in range(len(s)):\n",
    "        a_triple[i] = 3 * s_single[i] - 3 * s_double[i] + s_triple[i]\n",
    "        b_triple[i] = (alpha / (2 * ((1 - alpha) ** 2))) * ((6 - 5 * alpha) * s_single[i] - 2 * ((5 - 4 * alpha) * s_double[i]) + (4 - 3 * alpha) * s_triple[i])\n",
    "        c_triple[i] = ((alpha ** 2) / (2 * ((1 - alpha) ** 2))) * (s_single[i] - 2 * s_double[i] + s_triple[i])\n",
    "\n",
    "    return a_triple, b_triple, c_triple\n",
    "\n",
    "if __name__ == \"__main__\":\n",
    "\n",
    "    alpha = 0.8\n",
    "    data = [i for i in range(100)]\n",
    "\n",
    "    sigle = compute_single(alpha, data)\n",
    "\n",
    "    print(alpha * data[-1] + (1 - alpha) * sigle[-1])"
   ]
  },
  {
   "cell_type": "markdown",
   "metadata": {},
   "source": [
    "### https://blog.csdn.net/kabuto_hui/article/details/80028145\n",
    "摘自https://github.com/kabutohui"
   ]
  }
 ],
 "metadata": {
  "kernelspec": {
   "display_name": "Python 3",
   "language": "python",
   "name": "python3"
  },
  "language_info": {
   "codemirror_mode": {
    "name": "ipython",
    "version": 3
   },
   "file_extension": ".py",
   "mimetype": "text/x-python",
   "name": "python",
   "nbconvert_exporter": "python",
   "pygments_lexer": "ipython3",
   "version": "3.5.5"
  },
  "widgets": {
   "state": {},
   "version": "1.1.2"
  }
 },
 "nbformat": 4,
 "nbformat_minor": 2
}
