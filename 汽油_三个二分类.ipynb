{
 "cells": [
  {
   "cell_type": "code",
   "execution_count": 1,
   "metadata": {
    "collapsed": false
   },
   "outputs": [
    {
     "name": "stdout",
     "output_type": "stream",
     "text": [
      "    mpg  cylinders  displacement  horsepower  weight  acceleration  \\\n",
      "0  18.0        8.0         307.0       130.0  3504.0          12.0   \n",
      "1  15.0        8.0         350.0       165.0  3693.0          11.5   \n",
      "2  18.0        8.0         318.0       150.0  3436.0          11.0   \n",
      "3  16.0        8.0         304.0       150.0  3433.0          12.0   \n",
      "4  17.0        8.0         302.0       140.0  3449.0          10.5   \n",
      "\n",
      "   model year  origin                   car name  \n",
      "0        70.0     1.0  chevrolet chevelle malibu  \n",
      "1        70.0     1.0          buick skylark 320  \n",
      "2        70.0     1.0         plymouth satellite  \n",
      "3        70.0     1.0              amc rebel sst  \n",
      "4        70.0     1.0                ford torino  \n",
      "      mpg  cylinders  displacement  horsepower  weight  acceleration  \\\n",
      "401  27.0        4.0         140.0        86.0  2790.0          15.6   \n",
      "402  44.0        4.0          97.0        52.0  2130.0          24.6   \n",
      "403  32.0        4.0         135.0        84.0  2295.0          11.6   \n",
      "404  28.0        4.0         120.0        79.0  2625.0          18.6   \n",
      "405  31.0        4.0         119.0        82.0  2720.0          19.4   \n",
      "\n",
      "     model year  origin         car name  \n",
      "401        82.0     1.0  ford mustang gl  \n",
      "402        82.0     2.0        vw pickup  \n",
      "403        82.0     1.0    dodge rampage  \n",
      "404        82.0     1.0      ford ranger  \n",
      "405        82.0     1.0       chevy s-10  \n"
     ]
    }
   ],
   "source": [
    "import pandas as pd\n",
    "import matplotlib.pyplot as plt\n",
    "\n",
    "columns = ['mpg','cylinders','displacement','horsepower','weight','acceleration','model year','origin','car name']\n",
    "cars = pd.read_table('auto-mpg.txt',delim_whitespace=True,names = columns)\n",
    "print(cars.head(5))\n",
    "print(cars.tail(5))\n",
    "cars = cars.dropna()"
   ]
  },
  {
   "cell_type": "code",
   "execution_count": 2,
   "metadata": {
    "collapsed": false
   },
   "outputs": [
    {
     "name": "stdout",
     "output_type": "stream",
     "text": [
      "    mpg  displacement  horsepower  weight  acceleration  origin  \\\n",
      "0  18.0         307.0       130.0  3504.0          12.0     1.0   \n",
      "1  15.0         350.0       165.0  3693.0          11.5     1.0   \n",
      "2  18.0         318.0       150.0  3436.0          11.0     1.0   \n",
      "3  16.0         304.0       150.0  3433.0          12.0     1.0   \n",
      "4  17.0         302.0       140.0  3449.0          10.5     1.0   \n",
      "\n",
      "                    car name  cy1_3.0  cy1_4.0  cy1_5.0    ...      year_73.0  \\\n",
      "0  chevrolet chevelle malibu        0        0        0    ...              0   \n",
      "1          buick skylark 320        0        0        0    ...              0   \n",
      "2         plymouth satellite        0        0        0    ...              0   \n",
      "3              amc rebel sst        0        0        0    ...              0   \n",
      "4                ford torino        0        0        0    ...              0   \n",
      "\n",
      "   year_74.0  year_75.0  year_76.0  year_77.0  year_78.0  year_79.0  \\\n",
      "0          0          0          0          0          0          0   \n",
      "1          0          0          0          0          0          0   \n",
      "2          0          0          0          0          0          0   \n",
      "3          0          0          0          0          0          0   \n",
      "4          0          0          0          0          0          0   \n",
      "\n",
      "   year_80.0  year_81.0  year_82.0  \n",
      "0          0          0          0  \n",
      "1          0          0          0  \n",
      "2          0          0          0  \n",
      "3          0          0          0  \n",
      "4          0          0          0  \n",
      "\n",
      "[5 rows x 25 columns]\n"
     ]
    }
   ],
   "source": [
    "dummy_cylinders = pd.get_dummies(cars['cylinders'],prefix = 'cy1')\n",
    "#print(dummy_cylinders)\n",
    "cars = pd.concat([cars,dummy_cylinders],axis = 1)\n",
    "dummy_years = pd.get_dummies(cars['model year'],prefix = 'year')\n",
    "#print(dummy_years)\n",
    "cars = pd.concat([cars,dummy_years],axis=1)\n",
    "cars = cars.drop('model year',axis = 1)\n",
    "cars = cars.drop('cylinders',axis = 1)\n",
    "print(cars.head())"
   ]
  },
  {
   "cell_type": "code",
   "execution_count": 8,
   "metadata": {
    "collapsed": false
   },
   "outputs": [],
   "source": [
    "import numpy as np\n",
    "shuffled_rows = np.random.permutation(list(range(0,len(cars.index))))\n",
    "shuffled_cars = cars.iloc[shuffled_rows]\n",
    "highest_train_row = int(cars.shape[0]*.70)\n",
    "train = shuffled_cars.iloc[0:highest_train_row]\n",
    "test = shuffled_cars.iloc[highest_train_row:]"
   ]
  },
  {
   "cell_type": "code",
   "execution_count": 17,
   "metadata": {
    "collapsed": false
   },
   "outputs": [],
   "source": [
    "from sklearn.linear_model import LogisticRegression\n",
    "\n",
    "unique_origins = cars['origin'].unique()\n",
    "unique_origins.sort()\n",
    "\n",
    "models = {}\n",
    "features = [c for c in train.columns if c.startswith('cyl') or c.startswith('year')]\n",
    "\n",
    "for origin in unique_origins:\n",
    "    model = LogisticRegression()\n",
    "    \n",
    "    X_train = train[features]\n",
    "    y_train = train['origin'] == origin\n",
    "    \n",
    "    model.fit(X_train,y_train)\n",
    "    models[origin] = model"
   ]
  },
  {
   "cell_type": "code",
   "execution_count": 20,
   "metadata": {
    "collapsed": false
   },
   "outputs": [
    {
     "name": "stdout",
     "output_type": "stream",
     "text": [
      "Empty DataFrame\n",
      "Columns: [1.0, 2.0, 3.0]\n",
      "Index: []\n",
      "          1.0       2.0       3.0\n",
      "0    0.632606  0.120836  0.255325\n",
      "1    0.477532  0.129127  0.398020\n",
      "2    0.724654  0.202293  0.091880\n",
      "3    0.724654  0.202293  0.091880\n",
      "4    0.724654  0.202293  0.091880\n",
      "5    0.643507  0.241043  0.124743\n",
      "6    0.607933  0.184327  0.209753\n",
      "7    0.632606  0.120836  0.255325\n",
      "8    0.648082  0.290948  0.077710\n",
      "9    0.607933  0.184327  0.209753\n",
      "10   0.643507  0.241043  0.124743\n",
      "11   0.594467  0.259994  0.149368\n",
      "12   0.764236  0.164830  0.091880\n",
      "13   0.670086  0.170295  0.166338\n",
      "14   0.607933  0.184327  0.209753\n",
      "15   0.648082  0.290948  0.077710\n",
      "16   0.632606  0.120836  0.255325\n",
      "17   0.594467  0.259994  0.149368\n",
      "18   0.724654  0.202293  0.091880\n",
      "19   0.764236  0.164830  0.091880\n",
      "20   0.648082  0.290948  0.077710\n",
      "21   0.705731  0.156983  0.151366\n",
      "22   0.764236  0.164830  0.091880\n",
      "23   0.594467  0.259994  0.149368\n",
      "24   0.477532  0.129127  0.398020\n",
      "25   0.594467  0.259994  0.149368\n",
      "26   0.705731  0.156983  0.151366\n",
      "27   0.656323  0.138828  0.213816\n",
      "28   0.724654  0.202293  0.091880\n",
      "29   0.764236  0.164830  0.091880\n",
      "..        ...       ...       ...\n",
      "88   0.648082  0.290948  0.077710\n",
      "89   0.705731  0.156983  0.151366\n",
      "90   0.594467  0.259994  0.149368\n",
      "91   0.632606  0.120836  0.255325\n",
      "92   0.594467  0.259994  0.149368\n",
      "93   0.622528  0.239372  0.145040\n",
      "94   0.705731  0.156983  0.151366\n",
      "95   0.764236  0.164830  0.091880\n",
      "96   0.594467  0.259994  0.149368\n",
      "97   0.724654  0.202293  0.091880\n",
      "98   0.607933  0.184327  0.209753\n",
      "99   0.622528  0.239372  0.145040\n",
      "100  0.594467  0.259994  0.149368\n",
      "101  0.607933  0.184327  0.209753\n",
      "102  0.632606  0.120836  0.255325\n",
      "103  0.643507  0.241043  0.124743\n",
      "104  0.622528  0.239372  0.145040\n",
      "105  0.477532  0.129127  0.398020\n",
      "106  0.477532  0.129127  0.398020\n",
      "107  0.594467  0.259994  0.149368\n",
      "108  0.594467  0.259994  0.149368\n",
      "109  0.648082  0.290948  0.077710\n",
      "110  0.724654  0.202293  0.091880\n",
      "111  0.477532  0.129127  0.398020\n",
      "112  0.594467  0.259994  0.149368\n",
      "113  0.643507  0.241043  0.124743\n",
      "114  0.656323  0.138828  0.213816\n",
      "115  0.705731  0.156983  0.151366\n",
      "116  0.648082  0.290948  0.077710\n",
      "117  0.632606  0.120836  0.255325\n",
      "\n",
      "[118 rows x 3 columns]\n"
     ]
    }
   ],
   "source": [
    "testing_probs = pd.DataFrame(columns = unique_origins)\n",
    "print(testing_probs)\n",
    "for origin in unique_origins:\n",
    "    X_test = test[features]\n",
    "    testing_probs[origin] = models[origin].predict_proba(X_test)[:,1]\n",
    "print(testing_probs)"
   ]
  },
  {
   "cell_type": "code",
   "execution_count": null,
   "metadata": {
    "collapsed": true
   },
   "outputs": [],
   "source": []
  }
 ],
 "metadata": {
  "kernelspec": {
   "display_name": "Python 3",
   "language": "python",
   "name": "python3"
  },
  "language_info": {
   "codemirror_mode": {
    "name": "ipython",
    "version": 3
   },
   "file_extension": ".py",
   "mimetype": "text/x-python",
   "name": "python",
   "nbconvert_exporter": "python",
   "pygments_lexer": "ipython3",
   "version": "3.6.0"
  }
 },
 "nbformat": 4,
 "nbformat_minor": 2
}
